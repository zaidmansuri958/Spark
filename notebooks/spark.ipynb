{
 "cells": [
  {
   "cell_type": "code",
   "execution_count": 1,
   "id": "71691ca1-ca53-4c75-abd7-200900a1a0e5",
   "metadata": {},
   "outputs": [
    {
     "name": "stdout",
     "output_type": "stream",
     "text": [
      "Requirement already satisfied: pyspark in /usr/local/spark/python (3.5.0)\n",
      "Collecting py4j==0.10.9.7 (from pyspark)\n",
      "  Downloading py4j-0.10.9.7-py2.py3-none-any.whl.metadata (1.5 kB)\n",
      "Downloading py4j-0.10.9.7-py2.py3-none-any.whl (200 kB)\n",
      "\u001b[2K   \u001b[90m━━━━━━━━━━━━━━━━━━━━━━━━━━━━━━━━━━━━━━━━\u001b[0m \u001b[32m200.5/200.5 kB\u001b[0m \u001b[31m3.5 MB/s\u001b[0m eta \u001b[36m0:00:00\u001b[0ma \u001b[36m0:00:01\u001b[0m\n",
      "\u001b[?25hInstalling collected packages: py4j\n",
      "Successfully installed py4j-0.10.9.7\n",
      "Note: you may need to restart the kernel to use updated packages.\n"
     ]
    }
   ],
   "source": [
    "pip install pyspark"
   ]
  },
  {
   "cell_type": "code",
   "execution_count": 2,
   "id": "91adb3a1-b223-4d72-b0f9-65f9ab8dcef6",
   "metadata": {},
   "outputs": [],
   "source": [
    "from pyspark.sql import SparkSession\n",
    "from pyspark.sql.types import *\n",
    "from datetime import datetime"
   ]
  },
  {
   "cell_type": "code",
   "execution_count": 4,
   "id": "0db83754-fbcd-4ee0-bc6d-18c7bb1c4c96",
   "metadata": {},
   "outputs": [
    {
     "name": "stdout",
     "output_type": "stream",
     "text": [
      "root\n",
      " |-- Prodcut name: string (nullable = true)\n",
      " |-- Product id: integer (nullable = true)\n",
      " |-- date: date (nullable = true)\n",
      " |-- timestamp: timestamp (nullable = true)\n",
      " |-- price: float (nullable = true)\n",
      "\n",
      "+------------+----------+----------+-------------------+-------+\n",
      "|Prodcut name|Product id|      date|          timestamp|  price|\n",
      "+------------+----------+----------+-------------------+-------+\n",
      "|   product a|      1001|2023-07-20|2023-07-20 10:15:30|10000.0|\n",
      "|   product b|      1002|2023-07-21|2023-07-21 10:15:30|45000.0|\n",
      "|   product c|      1003|2023-07-22|2023-07-22 10:15:30|30000.0|\n",
      "|   product d|      1004|2023-07-23|2023-07-23 10:15:30|15000.0|\n",
      "+------------+----------+----------+-------------------+-------+\n",
      "\n"
     ]
    }
   ],
   "source": [
    "spark=SparkSession.builder \\\n",
    "    .appName(\"Spark with hive\") \\\n",
    "    .enableHiveSupport() \\\n",
    "    .getOrCreate()\n",
    "\n",
    "\n",
    "\n",
    "# hardcoded data \n",
    "\n",
    "data=[\n",
    "    [\"product a\",1001,datetime.strptime(\"2023-07-20\",\"%Y-%m-%d\"),datetime.strptime(\"2023-07-20 10:15:30\",\"%Y-%m-%d %H:%M:%S\"),10000.0],\n",
    "    [\"product b\",1002,datetime.strptime(\"2023-07-21\",\"%Y-%m-%d\"),datetime.strptime(\"2023-07-21 10:15:30\",\"%Y-%m-%d %H:%M:%S\"),45000.0],\n",
    "    [\"product c\",1003,datetime.strptime(\"2023-07-22\",\"%Y-%m-%d\"),datetime.strptime(\"2023-07-22 10:15:30\",\"%Y-%m-%d %H:%M:%S\"),30000.0],\n",
    "    [\"product d\",1004,datetime.strptime(\"2023-07-23\",\"%Y-%m-%d\"),datetime.strptime(\"2023-07-23 10:15:30\",\"%Y-%m-%d %H:%M:%S\"),15000.0]\n",
    "]\n",
    "\n",
    "schema=StructType([\n",
    "    StructField(\"Prodcut name\",StringType(),True),\n",
    "    StructField(\"Product id\",IntegerType(),True),\n",
    "    StructField(\"date\",DateType(),True),\n",
    "    StructField(\"timestamp\",TimestampType(),True),\n",
    "    StructField(\"price\",FloatType(),True),\n",
    "\n",
    "])\n",
    "\n",
    "df=spark.createDataFrame(data,schema)\n",
    "\n",
    "df.printSchema()\n",
    "\n",
    "df.show()"
   ]
  },
  {
   "cell_type": "code",
   "execution_count": null,
   "id": "72cf78c0-e93e-46c3-9f08-a06f50356a0c",
   "metadata": {},
   "outputs": [],
   "source": []
  }
 ],
 "metadata": {
  "kernelspec": {
   "display_name": "Python 3 (ipykernel)",
   "language": "python",
   "name": "python3"
  },
  "language_info": {
   "codemirror_mode": {
    "name": "ipython",
    "version": 3
   },
   "file_extension": ".py",
   "mimetype": "text/x-python",
   "name": "python",
   "nbconvert_exporter": "python",
   "pygments_lexer": "ipython3",
   "version": "3.11.6"
  }
 },
 "nbformat": 4,
 "nbformat_minor": 5
}
