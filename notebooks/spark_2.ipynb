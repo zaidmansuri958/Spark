{
 "cells": [
  {
   "cell_type": "code",
   "execution_count": 1,
   "id": "0f77b2c6-ea38-4613-80c9-b10e9baeeab9",
   "metadata": {},
   "outputs": [],
   "source": [
    "from pyspark.sql import SparkSession\n",
    "from pyspark.sql.types import *\n",
    "from datetime import datetime"
   ]
  },
  {
   "cell_type": "code",
   "execution_count": 3,
   "id": "b232918a-29ed-4a2d-b430-1c699950a724",
   "metadata": {},
   "outputs": [],
   "source": [
    "spark=SparkSession.builder \\\n",
    "    .appName(\"Spark\") \\\n",
    "    .enableHiveSupport() \\\n",
    "    .getOrCreate()"
   ]
  },
  {
   "cell_type": "code",
   "execution_count": 6,
   "id": "e391c04e-1122-41ff-8f2a-8dd79b3981d3",
   "metadata": {},
   "outputs": [
    {
     "name": "stdout",
     "output_type": "stream",
     "text": [
      "root\n",
      " |-- order_id : string (nullable = true)\n",
      " |-- order_item_id : integer (nullable = true)\n",
      " |-- product_id : string (nullable = true)\n",
      " |-- seller_id: string (nullable = true)\n",
      " |-- shipping_limit_date: timestamp (nullable = true)\n",
      " |-- price: double (nullable = true)\n",
      " |-- freight_value: double (nullable = true)\n",
      "\n",
      "+--------------------+--------------+--------------------+--------------------+-------------------+-----+-------------+\n",
      "|           order_id |order_item_id |         product_id |           seller_id|shipping_limit_date|price|freight_value|\n",
      "+--------------------+--------------+--------------------+--------------------+-------------------+-----+-------------+\n",
      "|00010242fe8c5a6d1...|             1|4244733e06e7ecb49...|48436dade18ac8b2b...|2017-09-19 09:45:35| 58.9|        13.29|\n",
      "|00018f77f2f0320c5...|             1|e5f2d52b802189ee6...|dd7ddc04e1b6c2c61...|2017-05-03 11:05:13|239.9|        19.93|\n",
      "|000229ec398224ef6...|             1|c777355d18b72b67a...|5b51032eddd242adc...|2018-01-18 14:48:30|199.0|        17.87|\n",
      "|00024acbcdf0a6daa...|             1|7634da152a4610f15...|9d7a1d34a50524090...|2018-08-15 10:10:18|12.99|        12.79|\n",
      "|00042b26cf59d7ce6...|             1|ac6c3623068f30de0...|df560393f3a51e745...|2017-02-13 13:57:51|199.9|        18.14|\n",
      "+--------------------+--------------+--------------------+--------------------+-------------------+-----+-------------+\n",
      "only showing top 5 rows\n",
      "\n"
     ]
    }
   ],
   "source": [
    "schema=StructType([\n",
    "    StructField(\"order_id \",StringType(),True),\n",
    "    StructField(\"order_item_id \",IntegerType(),True),\n",
    "    StructField(\"product_id \",StringType(),True),\n",
    "    StructField(\"seller_id\",StringType(),True),\n",
    "    StructField(\"shipping_limit_date\",TimestampType(),True),\n",
    "    StructField(\"price\",DoubleType(),True),\n",
    "    StructField(\"freight_value\",DoubleType(),True),\n",
    "])\n",
    "\n",
    "path=\"data/order_items_dataset.csv\"\n",
    "df=spark.read.format('csv').option('header','true').option('inferSchema','false').schema(schema).load(path)\n",
    "\n",
    "df.printSchema()\n",
    "df.show(5)\n"
   ]
  },
  {
   "cell_type": "code",
   "execution_count": 7,
   "id": "748fe9af-fe52-45aa-ad48-77612fe1f938",
   "metadata": {},
   "outputs": [
    {
     "data": {
      "text/plain": [
       "4"
      ]
     },
     "execution_count": 7,
     "metadata": {},
     "output_type": "execute_result"
    }
   ],
   "source": [
    "df.rdd.getNumPartitions()"
   ]
  },
  {
   "cell_type": "code",
   "execution_count": 8,
   "id": "bb8f1527-bb16-44d2-8628-ab522c7f1a74",
   "metadata": {},
   "outputs": [],
   "source": [
    "df_repartitions=df.repartition(10)"
   ]
  },
  {
   "cell_type": "code",
   "execution_count": 10,
   "id": "a6916fcc-70e4-4409-a7d1-879e9d868cbe",
   "metadata": {},
   "outputs": [
    {
     "data": {
      "text/plain": [
       "10"
      ]
     },
     "execution_count": 10,
     "metadata": {},
     "output_type": "execute_result"
    }
   ],
   "source": [
    "df_repartitions.rdd.getNumPartitions()"
   ]
  },
  {
   "cell_type": "code",
   "execution_count": 11,
   "id": "037cd439-0b95-4697-b8c8-a95986b393fc",
   "metadata": {},
   "outputs": [],
   "source": [
    "from pyspark.sql.functions import *"
   ]
  },
  {
   "cell_type": "code",
   "execution_count": 13,
   "id": "7d88a10c-8668-4e44-a2f4-c71898154d90",
   "metadata": {},
   "outputs": [
    {
     "name": "stdout",
     "output_type": "stream",
     "text": [
      "+--------------------+\n",
      "|           order_id |\n",
      "+--------------------+\n",
      "|00010242fe8c5a6d1...|\n",
      "|00018f77f2f0320c5...|\n",
      "|000229ec398224ef6...|\n",
      "|00024acbcdf0a6daa...|\n",
      "|00042b26cf59d7ce6...|\n",
      "+--------------------+\n",
      "only showing top 5 rows\n",
      "\n"
     ]
    }
   ],
   "source": [
    "df.select('order_id ').show(5)"
   ]
  },
  {
   "cell_type": "code",
   "execution_count": 18,
   "id": "4424c6e8-6728-46f0-9f45-501241deeaff",
   "metadata": {},
   "outputs": [
    {
     "name": "stdout",
     "output_type": "stream",
     "text": [
      "+--------------------------------+--------------+--------------------------------+--------------------------------+-------------------+-----+-------------+----+-----+\n",
      "|order_id                        |order_item_id |product_id                      |seller_id                       |shipping_limit_date|price|freight_value|year|month|\n",
      "+--------------------------------+--------------+--------------------------------+--------------------------------+-------------------+-----+-------------+----+-----+\n",
      "|00010242fe8c5a6d1ba2dd792cb16214|1             |4244733e06e7ecb4970a6e2683c13e61|48436dade18ac8b2bce089ec2a041202|2017-09-19 09:45:35|58.9 |13.29        |2017|9    |\n",
      "|00018f77f2f0320c557190d7a144bdd3|1             |e5f2d52b802189ee658865ca93d83a8f|dd7ddc04e1b6c2c614352b383efe2d36|2017-05-03 11:05:13|239.9|19.93        |2017|5    |\n",
      "|000229ec398224ef6ca0657da4fc703e|1             |c777355d18b72b67abbeef9df44fd0fd|5b51032eddd242adc84c38acab88f23d|2018-01-18 14:48:30|199.0|17.87        |2018|1    |\n",
      "|00024acbcdf0a6daa1e931b038114c75|1             |7634da152a4610f1595efa32f14722fc|9d7a1d34a5052409006425275ba1c2b4|2018-08-15 10:10:18|12.99|12.79        |2018|8    |\n",
      "|00042b26cf59d7ce69dfabb4e55b4fd9|1             |ac6c3623068f30de03045865e4e10089|df560393f3a51e74553ab94004ba5c87|2017-02-13 13:57:51|199.9|18.14        |2017|2    |\n",
      "+--------------------------------+--------------+--------------------------------+--------------------------------+-------------------+-----+-------------+----+-----+\n",
      "only showing top 5 rows\n",
      "\n"
     ]
    }
   ],
   "source": [
    "df2=df.withColumn(\"year\",year(col(\"shipping_limit_date\"))).withColumn(\"month\",month(col(\"shipping_limit_date\")))\n",
    "df2.show(5,truncate=False)"
   ]
  },
  {
   "cell_type": "code",
   "execution_count": 20,
   "id": "be2e07bf-9f74-49f1-a148-b15ed098c9e4",
   "metadata": {},
   "outputs": [
    {
     "name": "stdout",
     "output_type": "stream",
     "text": [
      "+--------------------+--------------+--------------------+--------------------+-------------------+-----+-------------+----+-----+\n",
      "|           order_id |order_item_id |         product_id |           seller_id|shipping_limit_date|price|freight_value|year|month|\n",
      "+--------------------+--------------+--------------------+--------------------+-------------------+-----+-------------+----+-----+\n",
      "|00010242fe8c5a6d1...|             1|4244733e06e7ecb49...|48436dade18ac8b2b...|2017-09-19 09:45:35| 58.9|        13.29|2017|    9|\n",
      "|00018f77f2f0320c5...|             1|e5f2d52b802189ee6...|dd7ddc04e1b6c2c61...|2017-05-03 11:05:13|239.9|        19.93|2017|    5|\n",
      "+--------------------+--------------+--------------------+--------------------+-------------------+-----+-------------+----+-----+\n",
      "\n"
     ]
    }
   ],
   "source": [
    "order_li=[\"00010242fe8c5a6d1ba2dd792cb16214\",\"00018f77f2f0320c557190d7a144bdd3\"]\n",
    "\n",
    "df2.filter(col(\"order_id \").isin(order_li)).show()"
   ]
  },
  {
   "cell_type": "code",
   "execution_count": 21,
   "id": "776e734c-19c5-4c58-8853-a797c26a9744",
   "metadata": {},
   "outputs": [
    {
     "name": "stdout",
     "output_type": "stream",
     "text": [
      "+--------------------+--------------+--------------------+--------------------+-------------------+-----+-------------+----+\n",
      "|           order_id |order_item_id |         product_id |           seller_id|shipping_limit_date|price|freight_value|year|\n",
      "+--------------------+--------------+--------------------+--------------------+-------------------+-----+-------------+----+\n",
      "|00010242fe8c5a6d1...|             1|4244733e06e7ecb49...|48436dade18ac8b2b...|2017-09-19 09:45:35| 58.9|        13.29|2017|\n",
      "|00018f77f2f0320c5...|             1|e5f2d52b802189ee6...|dd7ddc04e1b6c2c61...|2017-05-03 11:05:13|239.9|        19.93|2017|\n",
      "|000229ec398224ef6...|             1|c777355d18b72b67a...|5b51032eddd242adc...|2018-01-18 14:48:30|199.0|        17.87|2018|\n",
      "|00024acbcdf0a6daa...|             1|7634da152a4610f15...|9d7a1d34a50524090...|2018-08-15 10:10:18|12.99|        12.79|2018|\n",
      "|00042b26cf59d7ce6...|             1|ac6c3623068f30de0...|df560393f3a51e745...|2017-02-13 13:57:51|199.9|        18.14|2017|\n",
      "+--------------------+--------------+--------------------+--------------------+-------------------+-----+-------------+----+\n",
      "only showing top 5 rows\n",
      "\n"
     ]
    }
   ],
   "source": [
    "df2.drop('month').show(5)"
   ]
  },
  {
   "cell_type": "code",
   "execution_count": 23,
   "id": "56e2a193-12af-4cdf-be35-b25be7675a2d",
   "metadata": {},
   "outputs": [
    {
     "name": "stdout",
     "output_type": "stream",
     "text": [
      "+--------------------+--------------+--------------------+--------------------+-------------------+-----+-------------+----+-----+\n",
      "|           order_id |order_item_id |         product_id |           seller_id|shipping_limit_date|price|freight_value|year|month|\n",
      "+--------------------+--------------+--------------------+--------------------+-------------------+-----+-------------+----+-----+\n",
      "|00018f77f2f0320c5...|             1|e5f2d52b802189ee6...|dd7ddc04e1b6c2c61...|2017-05-03 11:05:13|239.9|        19.93|2017|    5|\n",
      "|0015ebb40fb17286b...|             1|50fd2b788dc166edd...|8b321bb669392f516...|2018-01-18 09:11:24| 21.9|         15.1|2018|    1|\n",
      "|001dbc16dc51075e9...|             1|777d2e438a1b645f3...|4a3ca9315b744ce9f...|2017-02-01 13:17:57| 69.9|         18.0|2017|    2|\n",
      "|0028de0ca693a1bb2...|             1|059344baebbeaa42f...|955fee9216a65b617...|2018-08-21 03:35:17|29.99|        15.31|2018|    8|\n",
      "|002c9def9c9b951b1...|             1|2d9ff06c8870a518f...|00720abe85ba08598...|2018-05-21 17:32:03| 78.0|          8.9|2018|    5|\n",
      "|002f98c0f7efd4263...|             2|880be32f4db1d9f6e...|fa40cc5b934574b62...|2017-08-10 09:30:15| 44.9|         7.16|2017|    8|\n",
      "|003822434f91204da...|             2|99e71b776debf2f01...|c54679b1324546259...|2018-06-21 02:30:28| 69.0|        18.58|2018|    6|\n",
      "|00418a49a685c6bb6...|             1|5e21d5cab5d33e770...|6560211a19b47992c...|2017-10-09 20:50:45| 49.0|         7.78|2017|   10|\n",
      "|0045e3085f083f0f3...|             1|9545d45c37449ccbc...|431af27f296bc6519...|2017-08-17 07:15:16|116.9|        13.84|2017|    8|\n",
      "|00482f26707872922...|             1|a9c404971d1a5b1cb...|702835e4b785b67a0...|2017-02-17 16:18:07|  7.6|        10.96|2017|    2|\n",
      "+--------------------+--------------+--------------------+--------------------+-------------------+-----+-------------+----+-----+\n",
      "only showing top 10 rows\n",
      "\n"
     ]
    }
   ],
   "source": [
    "df2.dropDuplicates(['order_id ','order_item_id ']).show(10)"
   ]
  },
  {
   "cell_type": "code",
   "execution_count": 24,
   "id": "6e704012-5b49-4989-a0c7-65a0724fb338",
   "metadata": {},
   "outputs": [
    {
     "name": "stdout",
     "output_type": "stream",
     "text": [
      "+--------------------+--------------+--------------------+--------------------+-------------------+-----+-------------+----+-----+\n",
      "|           order_id |order_item_id |         product_id |           seller_id|shipping_limit_date|price|freight_value|year|month|\n",
      "+--------------------+--------------+--------------------+--------------------+-------------------+-----+-------------+----+-----+\n",
      "|c5bdd8ef3c0ec4202...|             2|8a3254bee785a526d...|96804ea39d96eb908...|2018-05-07 02:55:22| 0.85|         22.3|2018|    5|\n",
      "|6e864b3f0ec710311...|             1|8a3254bee785a526d...|96804ea39d96eb908...|2018-05-02 20:30:34| 0.85|        18.23|2018|    5|\n",
      "|3ee6513ae7ea23bdf...|             1|8a3254bee785a526d...|96804ea39d96eb908...|2018-05-04 03:55:26| 0.85|        18.23|2018|    5|\n",
      "|8272b63d03f5f79c5...|            19|270516a3f41dc035a...|2709af9587499e95e...|2017-07-21 18:25:23|  1.2|         7.89|2017|    7|\n",
      "|8272b63d03f5f79c5...|            10|05b515fdc76e888aa...|2709af9587499e95e...|2017-07-21 18:25:23|  1.2|         7.89|2017|    7|\n",
      "|8272b63d03f5f79c5...|             9|05b515fdc76e888aa...|2709af9587499e95e...|2017-07-21 18:25:23|  1.2|         7.89|2017|    7|\n",
      "|8272b63d03f5f79c5...|            11|05b515fdc76e888aa...|2709af9587499e95e...|2017-07-21 18:25:23|  1.2|         7.89|2017|    7|\n",
      "|8272b63d03f5f79c5...|             2|05b515fdc76e888aa...|2709af9587499e95e...|2017-07-21 18:25:23|  1.2|         7.89|2017|    7|\n",
      "|8272b63d03f5f79c5...|            12|270516a3f41dc035a...|2709af9587499e95e...|2017-07-21 18:25:23|  1.2|         7.89|2017|    7|\n",
      "|8272b63d03f5f79c5...|             4|05b515fdc76e888aa...|2709af9587499e95e...|2017-07-21 18:25:23|  1.2|         7.89|2017|    7|\n",
      "+--------------------+--------------+--------------------+--------------------+-------------------+-----+-------------+----+-----+\n",
      "only showing top 10 rows\n",
      "\n"
     ]
    }
   ],
   "source": [
    "df2.orderBy(col('price').asc(),col('freight_value').desc()).show(10)"
   ]
  },
  {
   "cell_type": "code",
   "execution_count": 29,
   "id": "0150a443-cb25-4625-9358-89422f858f99",
   "metadata": {},
   "outputs": [
    {
     "name": "stdout",
     "output_type": "stream",
     "text": [
      "+----+-----+--------+------------------+----------+----------+\n",
      "|year|month|count(1)|        avg(price)|min(price)|max(price)|\n",
      "+----+-----+--------+------------------+----------+----------+\n",
      "|2016|   12|       1|              10.9|      10.9|      10.9|\n",
      "|2016|   10|     365|135.83712328767106|       6.0|    1399.0|\n",
      "|2016|    9|       4|           48.6175|     44.99|      59.5|\n",
      "|2017|   12|    7726|116.35011390111136|       4.4|    3124.0|\n",
      "|2017|   11|    7355|120.10219306593969|      3.85|    2990.0|\n",
      "|2017|   10|    5189|126.81060512622734|       4.5|   2999.99|\n",
      "|2017|    9|    4724|130.61941574936384|      2.29|    1798.0|\n",
      "|2017|    8|    5042|111.08554938516372|       3.9|    2649.0|\n",
      "|2017|    7|    4116|113.04229834791019|       1.2|   2999.89|\n",
      "|2017|    6|    3801|123.38885819521138|      3.49|    6499.0|\n",
      "|2017|    5|    4150|121.84468915662596|       3.5|    4690.0|\n",
      "|2017|    4|    2364|130.35038917089682|       4.9|    4799.0|\n",
      "|2017|    3|    2751|124.77011995637947|       4.9|    3999.9|\n",
      "|2017|    2|    1866|131.82315648445902|       3.9|    6735.0|\n",
      "|2017|    1|     681|117.65747430249642|       2.9|    1999.0|\n",
      "|2018|    9|      99|146.48989898989896|       6.9|    2299.0|\n",
      "|2018|    8|    8815|121.62764605785486|       2.2|    6729.0|\n",
      "|2018|    7|    6672|121.57255395683337|       3.0|    3089.0|\n",
      "|2018|    6|    6897|126.24863563868189|       3.5|    4590.0|\n",
      "|2018|    5|    8765|123.71460924129939|      0.85|    3930.0|\n",
      "+----+-----+--------+------------------+----------+----------+\n",
      "only showing top 20 rows\n",
      "\n"
     ]
    }
   ],
   "source": [
    "df2.groupBy('year','month').agg(count('*'),avg('price'),min('price'),max('price')).orderBy(col('year').asc(),col('month').desc()).show()"
   ]
  },
  {
   "cell_type": "code",
   "execution_count": 30,
   "id": "625ae97b-cc32-4a6d-9791-11ce69d97311",
   "metadata": {},
   "outputs": [
    {
     "name": "stdout",
     "output_type": "stream",
     "text": [
      "13591643.699999392\n"
     ]
    }
   ],
   "source": [
    "\n",
    "# Working with different partitions\n",
    "accum=spark.sparkContext.accumulator(0)\n",
    "df2.foreach(lambda row:accum.add(row['price']))\n",
    "\n",
    "print(accum.value)"
   ]
  },
  {
   "cell_type": "code",
   "execution_count": null,
   "id": "45556d59-eacf-4a8d-a708-6cf61e0efb8b",
   "metadata": {},
   "outputs": [],
   "source": []
  }
 ],
 "metadata": {
  "kernelspec": {
   "display_name": "Python 3 (ipykernel)",
   "language": "python",
   "name": "python3"
  },
  "language_info": {
   "codemirror_mode": {
    "name": "ipython",
    "version": 3
   },
   "file_extension": ".py",
   "mimetype": "text/x-python",
   "name": "python",
   "nbconvert_exporter": "python",
   "pygments_lexer": "ipython3",
   "version": "3.11.6"
  }
 },
 "nbformat": 4,
 "nbformat_minor": 5
}
